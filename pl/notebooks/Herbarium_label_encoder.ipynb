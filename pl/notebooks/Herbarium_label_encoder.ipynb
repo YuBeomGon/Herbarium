{
 "cells": [
  {
   "cell_type": "code",
   "execution_count": 1,
   "id": "412d3146-c3af-4c7e-8f70-625085de60a3",
   "metadata": {},
   "outputs": [],
   "source": [
    "import pandas as pd\n",
    "import numpy as np\n",
    "import json\n",
    "import matplotlib.pyplot as plt\n",
    "import seaborn as sns\n",
    "import cv2\n",
    "import os\n",
    "\n",
    "import sys\n",
    "sys.path.append('../')"
   ]
  },
  {
   "cell_type": "code",
   "execution_count": 2,
   "id": "771f2a16-6e99-4497-9137-d1ef2e64ac05",
   "metadata": {},
   "outputs": [
    {
     "data": {
      "text/html": [
       "<div>\n",
       "<style scoped>\n",
       "    .dataframe tbody tr th:only-of-type {\n",
       "        vertical-align: middle;\n",
       "    }\n",
       "\n",
       "    .dataframe tbody tr th {\n",
       "        vertical-align: top;\n",
       "    }\n",
       "\n",
       "    .dataframe thead th {\n",
       "        text-align: right;\n",
       "    }\n",
       "</style>\n",
       "<table border=\"1\" class=\"dataframe\">\n",
       "  <thead>\n",
       "    <tr style=\"text-align: right;\">\n",
       "      <th></th>\n",
       "      <th>image_id</th>\n",
       "      <th>image_dir</th>\n",
       "      <th>category</th>\n",
       "      <th>genus</th>\n",
       "      <th>institutions</th>\n",
       "    </tr>\n",
       "  </thead>\n",
       "  <tbody>\n",
       "    <tr>\n",
       "      <th>0</th>\n",
       "      <td>00000__001</td>\n",
       "      <td>../dataset/herbarium_2022/train_images/000/00/...</td>\n",
       "      <td>0</td>\n",
       "      <td>Abies</td>\n",
       "      <td>0</td>\n",
       "    </tr>\n",
       "    <tr>\n",
       "      <th>1</th>\n",
       "      <td>00000__002</td>\n",
       "      <td>../dataset/herbarium_2022/train_images/000/00/...</td>\n",
       "      <td>0</td>\n",
       "      <td>Abies</td>\n",
       "      <td>0</td>\n",
       "    </tr>\n",
       "    <tr>\n",
       "      <th>2</th>\n",
       "      <td>00000__003</td>\n",
       "      <td>../dataset/herbarium_2022/train_images/000/00/...</td>\n",
       "      <td>0</td>\n",
       "      <td>Abies</td>\n",
       "      <td>0</td>\n",
       "    </tr>\n",
       "    <tr>\n",
       "      <th>3</th>\n",
       "      <td>00000__004</td>\n",
       "      <td>../dataset/herbarium_2022/train_images/000/00/...</td>\n",
       "      <td>0</td>\n",
       "      <td>Abies</td>\n",
       "      <td>0</td>\n",
       "    </tr>\n",
       "    <tr>\n",
       "      <th>4</th>\n",
       "      <td>00000__005</td>\n",
       "      <td>../dataset/herbarium_2022/train_images/000/00/...</td>\n",
       "      <td>0</td>\n",
       "      <td>Abies</td>\n",
       "      <td>0</td>\n",
       "    </tr>\n",
       "  </tbody>\n",
       "</table>\n",
       "</div>"
      ],
      "text/plain": [
       "     image_id                                          image_dir  category  \\\n",
       "0  00000__001  ../dataset/herbarium_2022/train_images/000/00/...         0   \n",
       "1  00000__002  ../dataset/herbarium_2022/train_images/000/00/...         0   \n",
       "2  00000__003  ../dataset/herbarium_2022/train_images/000/00/...         0   \n",
       "3  00000__004  ../dataset/herbarium_2022/train_images/000/00/...         0   \n",
       "4  00000__005  ../dataset/herbarium_2022/train_images/000/00/...         0   \n",
       "\n",
       "   genus  institutions  \n",
       "0  Abies             0  \n",
       "1  Abies             0  \n",
       "2  Abies             0  \n",
       "3  Abies             0  \n",
       "4  Abies             0  "
      ]
     },
     "execution_count": 2,
     "metadata": {},
     "output_type": "execute_result"
    }
   ],
   "source": [
    "train_df = pd.read_csv('../dataset/df.csv')\n",
    "train_df.head()"
   ]
  },
  {
   "cell_type": "code",
   "execution_count": 3,
   "id": "0b11caef-b9a3-4712-8d61-2e4f2d0559fc",
   "metadata": {},
   "outputs": [
    {
     "data": {
      "text/plain": [
       "(839772, 5)"
      ]
     },
     "execution_count": 3,
     "metadata": {},
     "output_type": "execute_result"
    }
   ],
   "source": [
    "train_df.shape"
   ]
  },
  {
   "cell_type": "code",
   "execution_count": 4,
   "id": "36bb8f23-21c8-421e-a38e-6c920d20652a",
   "metadata": {},
   "outputs": [
    {
     "name": "stdout",
     "output_type": "stream",
     "text": [
      "2564\n",
      "15501\n",
      "60\n"
     ]
    }
   ],
   "source": [
    "print(len(train_df.genus.value_counts()))\n",
    "print(len(train_df.category.value_counts()))\n",
    "print(len(train_df.institutions.value_counts()))"
   ]
  },
  {
   "cell_type": "code",
   "execution_count": 5,
   "id": "c40889bb-a7f1-482f-b72c-57cd0c8d3372",
   "metadata": {},
   "outputs": [
    {
     "data": {
      "text/plain": [
       "Carex           24743\n",
       "Astragalus      15192\n",
       "Penstemon       12256\n",
       "Eriogonum       10063\n",
       "Erigeron         7135\n",
       "                ...  \n",
       "Werauhia            7\n",
       "Geogenanthus        7\n",
       "Leptotes            6\n",
       "Stenomesson         6\n",
       "Alsobia             6\n",
       "Name: genus, Length: 2564, dtype: int64"
      ]
     },
     "execution_count": 5,
     "metadata": {},
     "output_type": "execute_result"
    }
   ],
   "source": [
    "train_df.genus.value_counts()"
   ]
  },
  {
   "cell_type": "code",
   "execution_count": 6,
   "id": "0166950d-65cc-440b-aabb-a785eb90fc0b",
   "metadata": {},
   "outputs": [
    {
     "data": {
      "text/plain": [
       "image_id        0\n",
       "image_dir       0\n",
       "category        0\n",
       "genus           0\n",
       "institutions    0\n",
       "dtype: int64"
      ]
     },
     "execution_count": 6,
     "metadata": {},
     "output_type": "execute_result"
    }
   ],
   "source": [
    "train_df.isnull().sum()"
   ]
  },
  {
   "cell_type": "code",
   "execution_count": 7,
   "id": "15078621-8869-4401-a505-ba55204fb2ae",
   "metadata": {},
   "outputs": [
    {
     "name": "stderr",
     "output_type": "stream",
     "text": [
      "/home/beomgon/anaconda3/envs/pl/lib/python3.8/site-packages/tqdm/auto.py:22: TqdmWarning: IProgress not found. Please update jupyter and ipywidgets. See https://ipywidgets.readthedocs.io/en/stable/user_install.html\n",
      "  from .autonotebook import tqdm as notebook_tqdm\n"
     ]
    }
   ],
   "source": [
    "from utils.dataset_utils import LabelEncoder"
   ]
  },
  {
   "cell_type": "code",
   "execution_count": 8,
   "id": "24d641fb-b1ab-44c5-9d45-305369395106",
   "metadata": {},
   "outputs": [],
   "source": [
    "# le = LabelEncoder(train_df)\n",
    "# le.fit()\n",
    "# le.transform()"
   ]
  },
  {
   "cell_type": "code",
   "execution_count": 9,
   "id": "8a3b7d78-6051-4593-b58a-cd8027998439",
   "metadata": {},
   "outputs": [],
   "source": [
    "le = LabelEncoder(train_df)\n",
    "train_df = le.get_integer_labels()"
   ]
  },
  {
   "cell_type": "code",
   "execution_count": 10,
   "id": "8c4acbb9-407a-4af4-a5f0-eb34a294d7e5",
   "metadata": {},
   "outputs": [
    {
     "data": {
      "text/html": [
       "<div>\n",
       "<style scoped>\n",
       "    .dataframe tbody tr th:only-of-type {\n",
       "        vertical-align: middle;\n",
       "    }\n",
       "\n",
       "    .dataframe tbody tr th {\n",
       "        vertical-align: top;\n",
       "    }\n",
       "\n",
       "    .dataframe thead th {\n",
       "        text-align: right;\n",
       "    }\n",
       "</style>\n",
       "<table border=\"1\" class=\"dataframe\">\n",
       "  <thead>\n",
       "    <tr style=\"text-align: right;\">\n",
       "      <th></th>\n",
       "      <th>image_id</th>\n",
       "      <th>image_dir</th>\n",
       "      <th>category</th>\n",
       "      <th>genus</th>\n",
       "      <th>institutions</th>\n",
       "    </tr>\n",
       "  </thead>\n",
       "  <tbody>\n",
       "    <tr>\n",
       "      <th>0</th>\n",
       "      <td>00000__001</td>\n",
       "      <td>../dataset/herbarium_2022/train_images/000/00/...</td>\n",
       "      <td>0</td>\n",
       "      <td>0</td>\n",
       "      <td>0</td>\n",
       "    </tr>\n",
       "    <tr>\n",
       "      <th>1</th>\n",
       "      <td>00000__002</td>\n",
       "      <td>../dataset/herbarium_2022/train_images/000/00/...</td>\n",
       "      <td>0</td>\n",
       "      <td>0</td>\n",
       "      <td>0</td>\n",
       "    </tr>\n",
       "    <tr>\n",
       "      <th>2</th>\n",
       "      <td>00000__003</td>\n",
       "      <td>../dataset/herbarium_2022/train_images/000/00/...</td>\n",
       "      <td>0</td>\n",
       "      <td>0</td>\n",
       "      <td>0</td>\n",
       "    </tr>\n",
       "    <tr>\n",
       "      <th>3</th>\n",
       "      <td>00000__004</td>\n",
       "      <td>../dataset/herbarium_2022/train_images/000/00/...</td>\n",
       "      <td>0</td>\n",
       "      <td>0</td>\n",
       "      <td>0</td>\n",
       "    </tr>\n",
       "    <tr>\n",
       "      <th>4</th>\n",
       "      <td>00000__005</td>\n",
       "      <td>../dataset/herbarium_2022/train_images/000/00/...</td>\n",
       "      <td>0</td>\n",
       "      <td>0</td>\n",
       "      <td>0</td>\n",
       "    </tr>\n",
       "  </tbody>\n",
       "</table>\n",
       "</div>"
      ],
      "text/plain": [
       "     image_id                                          image_dir  category  \\\n",
       "0  00000__001  ../dataset/herbarium_2022/train_images/000/00/...         0   \n",
       "1  00000__002  ../dataset/herbarium_2022/train_images/000/00/...         0   \n",
       "2  00000__003  ../dataset/herbarium_2022/train_images/000/00/...         0   \n",
       "3  00000__004  ../dataset/herbarium_2022/train_images/000/00/...         0   \n",
       "4  00000__005  ../dataset/herbarium_2022/train_images/000/00/...         0   \n",
       "\n",
       "   genus  institutions  \n",
       "0      0             0  \n",
       "1      0             0  \n",
       "2      0             0  \n",
       "3      0             0  \n",
       "4      0             0  "
      ]
     },
     "execution_count": 10,
     "metadata": {},
     "output_type": "execute_result"
    }
   ],
   "source": [
    "train_df.head()"
   ]
  },
  {
   "cell_type": "code",
   "execution_count": 11,
   "id": "919b3e46-e78c-4061-8f05-4fe0e107aeb0",
   "metadata": {},
   "outputs": [
    {
     "data": {
      "text/plain": [
       "15500"
      ]
     },
     "execution_count": 11,
     "metadata": {},
     "output_type": "execute_result"
    }
   ],
   "source": [
    "max(le.df.category.unique())"
   ]
  },
  {
   "cell_type": "code",
   "execution_count": 12,
   "id": "ea6c0306-ee29-4797-9186-f8e74c860b94",
   "metadata": {},
   "outputs": [],
   "source": [
    "preds = [0 , 3, 4]"
   ]
  },
  {
   "cell_type": "code",
   "execution_count": 13,
   "id": "9d5888bd-04ac-4c9a-80bf-855fb285413b",
   "metadata": {},
   "outputs": [
    {
     "data": {
      "text/plain": [
       "array(['Abies', 'Abutilon', 'Acaciella'], dtype=object)"
      ]
     },
     "execution_count": 13,
     "metadata": {},
     "output_type": "execute_result"
    }
   ],
   "source": [
    "le.inverse_transform(preds, 'genus')"
   ]
  },
  {
   "cell_type": "code",
   "execution_count": null,
   "id": "7f68df8e-fc52-4ac8-985c-80788c347057",
   "metadata": {},
   "outputs": [],
   "source": []
  },
  {
   "cell_type": "code",
   "execution_count": null,
   "id": "53489e04-cae8-4ad7-b691-0b23e2b49f2d",
   "metadata": {},
   "outputs": [],
   "source": []
  },
  {
   "cell_type": "code",
   "execution_count": null,
   "id": "a1581b65-6756-41ad-9e26-5d54f18339eb",
   "metadata": {},
   "outputs": [],
   "source": []
  }
 ],
 "metadata": {
  "kernelspec": {
   "display_name": "pl",
   "language": "python",
   "name": "pl"
  },
  "language_info": {
   "codemirror_mode": {
    "name": "ipython",
    "version": 3
   },
   "file_extension": ".py",
   "mimetype": "text/x-python",
   "name": "python",
   "nbconvert_exporter": "python",
   "pygments_lexer": "ipython3",
   "version": "3.8.13"
  }
 },
 "nbformat": 4,
 "nbformat_minor": 5
}
