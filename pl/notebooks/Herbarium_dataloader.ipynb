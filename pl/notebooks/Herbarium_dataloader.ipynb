{
 "cells": [
  {
   "cell_type": "code",
   "execution_count": 1,
   "id": "412d3146-c3af-4c7e-8f70-625085de60a3",
   "metadata": {},
   "outputs": [
    {
     "name": "stderr",
     "output_type": "stream",
     "text": [
      "/home/beomgon/anaconda3/envs/pl/lib/python3.8/site-packages/tqdm/auto.py:22: TqdmWarning: IProgress not found. Please update jupyter and ipywidgets. See https://ipywidgets.readthedocs.io/en/stable/user_install.html\n",
      "  from .autonotebook import tqdm as notebook_tqdm\n"
     ]
    }
   ],
   "source": [
    "import pandas as pd\n",
    "import numpy as np\n",
    "import json\n",
    "import matplotlib.pyplot as plt\n",
    "import seaborn as sns\n",
    "import cv2\n",
    "import os\n",
    "import math\n",
    "\n",
    "import torch\n",
    "import torch.nn as nn\n",
    "import torch.nn.functional as F\n",
    "import torchvision \n",
    "import torchvision.transforms as transforms \n",
    "from torch.utils.data import Dataset, DataLoader, Subset\n",
    "from torch.utils.data.sampler import WeightedRandomSampler\n",
    "from pytorch_lightning import LightningDataModule\n",
    "\n",
    "import json\n",
    "import matplotlib.image as image \n",
    "import albumentations as A\n",
    "import albumentations.pytorch\n",
    "from sklearn.model_selection import train_test_split\n",
    "\n",
    "import sys\n",
    "sys.path.append('../')\n",
    "\n"
   ]
  },
  {
   "cell_type": "code",
   "execution_count": 4,
   "id": "14dc2585-1b5e-426a-ac98-be73e07038a9",
   "metadata": {},
   "outputs": [],
   "source": [
    "df = pd.read_csv('../../dataset/df.csv')"
   ]
  },
  {
   "cell_type": "code",
   "execution_count": 5,
   "id": "7fb6dae5-f4b9-4f23-8ea8-2295311eadff",
   "metadata": {},
   "outputs": [
    {
     "data": {
      "text/html": [
       "<div>\n",
       "<style scoped>\n",
       "    .dataframe tbody tr th:only-of-type {\n",
       "        vertical-align: middle;\n",
       "    }\n",
       "\n",
       "    .dataframe tbody tr th {\n",
       "        vertical-align: top;\n",
       "    }\n",
       "\n",
       "    .dataframe thead th {\n",
       "        text-align: right;\n",
       "    }\n",
       "</style>\n",
       "<table border=\"1\" class=\"dataframe\">\n",
       "  <thead>\n",
       "    <tr style=\"text-align: right;\">\n",
       "      <th></th>\n",
       "      <th>image_id</th>\n",
       "      <th>image_dir</th>\n",
       "      <th>category</th>\n",
       "      <th>genus</th>\n",
       "      <th>institutions</th>\n",
       "    </tr>\n",
       "  </thead>\n",
       "  <tbody>\n",
       "    <tr>\n",
       "      <th>0</th>\n",
       "      <td>00000__001</td>\n",
       "      <td>../dataset/herbarium_2022/train_images/000/00/...</td>\n",
       "      <td>0</td>\n",
       "      <td>Abies</td>\n",
       "      <td>0</td>\n",
       "    </tr>\n",
       "    <tr>\n",
       "      <th>1</th>\n",
       "      <td>00000__002</td>\n",
       "      <td>../dataset/herbarium_2022/train_images/000/00/...</td>\n",
       "      <td>0</td>\n",
       "      <td>Abies</td>\n",
       "      <td>0</td>\n",
       "    </tr>\n",
       "    <tr>\n",
       "      <th>2</th>\n",
       "      <td>00000__003</td>\n",
       "      <td>../dataset/herbarium_2022/train_images/000/00/...</td>\n",
       "      <td>0</td>\n",
       "      <td>Abies</td>\n",
       "      <td>0</td>\n",
       "    </tr>\n",
       "    <tr>\n",
       "      <th>3</th>\n",
       "      <td>00000__004</td>\n",
       "      <td>../dataset/herbarium_2022/train_images/000/00/...</td>\n",
       "      <td>0</td>\n",
       "      <td>Abies</td>\n",
       "      <td>0</td>\n",
       "    </tr>\n",
       "    <tr>\n",
       "      <th>4</th>\n",
       "      <td>00000__005</td>\n",
       "      <td>../dataset/herbarium_2022/train_images/000/00/...</td>\n",
       "      <td>0</td>\n",
       "      <td>Abies</td>\n",
       "      <td>0</td>\n",
       "    </tr>\n",
       "  </tbody>\n",
       "</table>\n",
       "</div>"
      ],
      "text/plain": [
       "     image_id                                          image_dir  category  \\\n",
       "0  00000__001  ../dataset/herbarium_2022/train_images/000/00/...         0   \n",
       "1  00000__002  ../dataset/herbarium_2022/train_images/000/00/...         0   \n",
       "2  00000__003  ../dataset/herbarium_2022/train_images/000/00/...         0   \n",
       "3  00000__004  ../dataset/herbarium_2022/train_images/000/00/...         0   \n",
       "4  00000__005  ../dataset/herbarium_2022/train_images/000/00/...         0   \n",
       "\n",
       "   genus  institutions  \n",
       "0  Abies             0  \n",
       "1  Abies             0  \n",
       "2  Abies             0  \n",
       "3  Abies             0  \n",
       "4  Abies             0  "
      ]
     },
     "execution_count": 5,
     "metadata": {},
     "output_type": "execute_result"
    }
   ],
   "source": [
    "df.head()"
   ]
  },
  {
   "cell_type": "markdown",
   "id": "68dd92c4-594e-45e0-a0df-493d8edc57a1",
   "metadata": {},
   "source": [
    "single class dataloader"
   ]
  },
  {
   "cell_type": "code",
   "execution_count": 7,
   "id": "3e4b80b8-9094-411d-93ca-2b0cb7d6f242",
   "metadata": {},
   "outputs": [
    {
     "name": "stdout",
     "output_type": "stream",
     "text": [
      "(839772, 5)\n"
     ]
    },
    {
     "name": "stderr",
     "output_type": "stream",
     "text": [
      "[ WARN:0@59.631] global /io/opencv/modules/imgcodecs/src/loadsave.cpp (239) findDecoder imread_('../dataset/herbarium_2022/train_images/000/00/00000__001.jpg'): can't open/read file: check file path/integrity\n"
     ]
    },
    {
     "ename": "error",
     "evalue": "OpenCV(4.5.5) /io/opencv/modules/imgproc/src/color.cpp:182: error: (-215:Assertion failed) !_src.empty() in function 'cvtColor'\n",
     "output_type": "error",
     "traceback": [
      "\u001b[0;31m---------------------------------------------------------------------------\u001b[0m",
      "\u001b[0;31merror\u001b[0m                                     Traceback (most recent call last)",
      "Input \u001b[0;32mIn [7]\u001b[0m, in \u001b[0;36m<cell line: 8>\u001b[0;34m()\u001b[0m\n\u001b[1;32m      6\u001b[0m \u001b[38;5;66;03m# df.image_dir = df.image_dir.apply(lambda x : re.sub('../dataset','./dataset', x))\u001b[39;00m\n\u001b[1;32m      7\u001b[0m dataset \u001b[38;5;241m=\u001b[39m HerbDataset(df, transform\u001b[38;5;241m=\u001b[39mtrain_transforms)\n\u001b[0;32m----> 8\u001b[0m image, label \u001b[38;5;241m=\u001b[39m \u001b[38;5;28;43mnext\u001b[39;49m\u001b[43m(\u001b[49m\u001b[38;5;28;43miter\u001b[39;49m\u001b[43m(\u001b[49m\u001b[43mdataset\u001b[49m\u001b[43m)\u001b[49m\u001b[43m)\u001b[49m\n\u001b[1;32m      9\u001b[0m \u001b[38;5;28mprint\u001b[39m(image\u001b[38;5;241m.\u001b[39mshape)\n\u001b[1;32m     10\u001b[0m \u001b[38;5;28mprint\u001b[39m(label)\n",
      "File \u001b[0;32m~/pytorch/kaggle/Herbarium/pl/notebooks/../utils/dataset.py:72\u001b[0m, in \u001b[0;36mHerbDataset.__getitem__\u001b[0;34m(self, idx)\u001b[0m\n\u001b[1;32m     70\u001b[0m label \u001b[38;5;241m=\u001b[39m \u001b[38;5;28mself\u001b[39m\u001b[38;5;241m.\u001b[39mdf\u001b[38;5;241m.\u001b[39mloc[idx, \u001b[38;5;124m'\u001b[39m\u001b[38;5;124mcategory\u001b[39m\u001b[38;5;124m'\u001b[39m]\n\u001b[1;32m     71\u001b[0m image \u001b[38;5;241m=\u001b[39m cv2\u001b[38;5;241m.\u001b[39mimread(path)\n\u001b[0;32m---> 72\u001b[0m image \u001b[38;5;241m=\u001b[39m \u001b[43mcv2\u001b[49m\u001b[38;5;241;43m.\u001b[39;49m\u001b[43mcvtColor\u001b[49m\u001b[43m(\u001b[49m\u001b[43mimage\u001b[49m\u001b[43m,\u001b[49m\u001b[43m \u001b[49m\u001b[43mcv2\u001b[49m\u001b[38;5;241;43m.\u001b[39;49m\u001b[43mCOLOR_BGR2RGB\u001b[49m\u001b[43m)\u001b[49m\n\u001b[1;32m     74\u001b[0m \u001b[38;5;28;01mif\u001b[39;00m \u001b[38;5;28mself\u001b[39m\u001b[38;5;241m.\u001b[39mtransform : \n\u001b[1;32m     75\u001b[0m     timage \u001b[38;5;241m=\u001b[39m \u001b[38;5;28mself\u001b[39m\u001b[38;5;241m.\u001b[39mtransform(image\u001b[38;5;241m=\u001b[39mimage)\n",
      "\u001b[0;31merror\u001b[0m: OpenCV(4.5.5) /io/opencv/modules/imgproc/src/color.cpp:182: error: (-215:Assertion failed) !_src.empty() in function 'cvtColor'\n"
     ]
    }
   ],
   "source": [
    "from utils.dataset import train_transforms, HerbDataset, ContraHerbDataset\n",
    "from utils.dataset_utils import LabelEncoder\n",
    "import re\n",
    "le = LabelEncoder(df)\n",
    "df = le.get_integer_labels()\n",
    "# df.image_dir = df.image_dir.apply(lambda x : re.sub('../dataset','./dataset', x))\n",
    "dataset = HerbDataset(df, transform=train_transforms)\n",
    "image, label = next(iter(dataset))\n",
    "print(image.shape)\n",
    "print(label)"
   ]
  },
  {
   "cell_type": "code",
   "execution_count": null,
   "id": "71723f39-a5f4-41de-b972-26702e7cac62",
   "metadata": {},
   "outputs": [],
   "source": []
  },
  {
   "cell_type": "code",
   "execution_count": 17,
   "id": "62a0e3ac-5d7a-460e-84d6-6ae6a60d0fc8",
   "metadata": {},
   "outputs": [],
   "source": [
    "dataloader =  torch.utils.data.DataLoader(\n",
    "    dataset=dataset,\n",
    "    batch_size=4,\n",
    "    shuffle=True,\n",
    "    num_workers=4,\n",
    "    pin_memory=True)"
   ]
  },
  {
   "cell_type": "code",
   "execution_count": 18,
   "id": "4e805e85-5689-4063-bdc3-a7e4afbed50d",
   "metadata": {},
   "outputs": [],
   "source": [
    "images, labels = next(iter(dataloader))"
   ]
  },
  {
   "cell_type": "code",
   "execution_count": 19,
   "id": "627610e3-bec1-4c07-b399-34d81db5b5fa",
   "metadata": {},
   "outputs": [
    {
     "data": {
      "text/plain": [
       "torch.Size([4, 3, 512, 512])"
      ]
     },
     "execution_count": 19,
     "metadata": {},
     "output_type": "execute_result"
    }
   ],
   "source": [
    "images.shape"
   ]
  },
  {
   "cell_type": "code",
   "execution_count": 20,
   "id": "dab8ebe1-c840-486b-8f1f-1d5948487e9b",
   "metadata": {},
   "outputs": [
    {
     "data": {
      "text/plain": [
       "torch.Size([4, 3])"
      ]
     },
     "execution_count": 20,
     "metadata": {},
     "output_type": "execute_result"
    }
   ],
   "source": [
    "labels.shape"
   ]
  },
  {
   "cell_type": "code",
   "execution_count": 10,
   "id": "40f1e58d-37c9-4109-a57f-753c19d67b85",
   "metadata": {},
   "outputs": [
    {
     "name": "stdout",
     "output_type": "stream",
     "text": [
      "(839772, 5)\n"
     ]
    }
   ],
   "source": [
    "con_dataset = ContraHerbDataset(df, transform=train_transforms)"
   ]
  },
  {
   "cell_type": "code",
   "execution_count": 11,
   "id": "2baf1b85-b875-4a50-8983-09e542afa059",
   "metadata": {},
   "outputs": [],
   "source": [
    "dataloader =  torch.utils.data.DataLoader(\n",
    "    dataset=con_dataset,\n",
    "    batch_size=4,\n",
    "    shuffle=True,\n",
    "    num_workers=4,\n",
    "    pin_memory=True)"
   ]
  },
  {
   "cell_type": "code",
   "execution_count": 12,
   "id": "18da532c-1b6f-48e3-8cd0-d62a24a4ce9a",
   "metadata": {},
   "outputs": [],
   "source": [
    "images1, images2, labels = next(iter(dataloader))"
   ]
  },
  {
   "cell_type": "code",
   "execution_count": 13,
   "id": "a2b06cfd-95f0-446a-ae69-d6881e98e3cd",
   "metadata": {},
   "outputs": [
    {
     "name": "stdout",
     "output_type": "stream",
     "text": [
      "torch.Size([4, 3, 512, 512])\n",
      "torch.Size([4, 3, 512, 512])\n"
     ]
    }
   ],
   "source": [
    "print(images1.shape)\n",
    "print(images2.shape)"
   ]
  },
  {
   "cell_type": "code",
   "execution_count": 14,
   "id": "ab3916b1-4324-470a-bb2d-66189d6a2a6c",
   "metadata": {},
   "outputs": [
    {
     "data": {
      "text/plain": [
       "torch.Size([4])"
      ]
     },
     "execution_count": 14,
     "metadata": {},
     "output_type": "execute_result"
    }
   ],
   "source": [
    "labels.shape"
   ]
  },
  {
   "cell_type": "code",
   "execution_count": null,
   "id": "2d0a2d00-6daf-4829-87a6-b37b59324bee",
   "metadata": {},
   "outputs": [],
   "source": []
  },
  {
   "cell_type": "code",
   "execution_count": null,
   "id": "307ab879-162e-4bd5-848d-295e3e4ee9d5",
   "metadata": {},
   "outputs": [],
   "source": []
  }
 ],
 "metadata": {
  "kernelspec": {
   "display_name": "pl",
   "language": "python",
   "name": "pl"
  },
  "language_info": {
   "codemirror_mode": {
    "name": "ipython",
    "version": 3
   },
   "file_extension": ".py",
   "mimetype": "text/x-python",
   "name": "python",
   "nbconvert_exporter": "python",
   "pygments_lexer": "ipython3",
   "version": "3.8.13"
  }
 },
 "nbformat": 4,
 "nbformat_minor": 5
}
