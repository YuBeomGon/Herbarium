{
 "cells": [
  {
   "cell_type": "code",
   "execution_count": 59,
   "id": "412d3146-c3af-4c7e-8f70-625085de60a3",
   "metadata": {},
   "outputs": [],
   "source": [
    "import pandas as pd\n",
    "import numpy as np\n",
    "import json\n",
    "import matplotlib.pyplot as plt\n",
    "import seaborn as sns\n",
    "import cv2\n",
    "import os\n",
    "\n",
    "import torch\n",
    "from torch.utils.data.sampler import WeightedRandomSampler\n",
    "from sklearn.model_selection import train_test_split\n",
    "from torch.utils.data import Subset, DataLoader"
   ]
  },
  {
   "cell_type": "code",
   "execution_count": 30,
   "id": "f05f2188-d1cc-40b7-afbf-244b6c69047a",
   "metadata": {},
   "outputs": [],
   "source": [
    "\n",
    "path = '../dataset/herbarium_2022/'\n",
    "train_dir = path + 'train_images/'\n",
    "test_dir = path + 'test_images/'\n",
    "\n",
    "with open( path + \"train_metadata.json\") as json_file:\n",
    "    train_meta = json.load(json_file)\n",
    "with open(path + \"test_metadata.json\") as json_file:\n",
    "    test_meta = json.load(json_file)\n"
   ]
  },
  {
   "cell_type": "code",
   "execution_count": 31,
   "id": "5cc14b5b-2e7f-46cf-bf30-cf632d80b188",
   "metadata": {},
   "outputs": [
    {
     "data": {
      "text/plain": [
       "dict_keys(['annotations', 'images', 'categories', 'genera', 'institutions', 'distances', 'license'])"
      ]
     },
     "execution_count": 31,
     "metadata": {},
     "output_type": "execute_result"
    }
   ],
   "source": [
    "train_meta.keys()"
   ]
  },
  {
   "cell_type": "code",
   "execution_count": 32,
   "id": "a3f49ad4-fcb3-4cd7-842f-d6259be02ca1",
   "metadata": {},
   "outputs": [
    {
     "data": {
      "text/plain": [
       "[{'genus_id': 1,\n",
       "  'institution_id': 0,\n",
       "  'category_id': 0,\n",
       "  'image_id': '00000__001'},\n",
       " {'genus_id': 1,\n",
       "  'institution_id': 0,\n",
       "  'category_id': 0,\n",
       "  'image_id': '00000__002'}]"
      ]
     },
     "execution_count": 32,
     "metadata": {},
     "output_type": "execute_result"
    }
   ],
   "source": [
    "train_meta['annotations'][:2]"
   ]
  },
  {
   "cell_type": "code",
   "execution_count": 33,
   "id": "21731563-73af-4112-8bfc-5d05692678da",
   "metadata": {},
   "outputs": [
    {
     "data": {
      "text/plain": [
       "[{'genus_id_x': 2508, 'genus_id_y': 2576, 'distance': 0.0325632},\n",
       " {'genus_id_x': 2508, 'genus_id_y': 2518, 'distance': 0.0254073}]"
      ]
     },
     "execution_count": 33,
     "metadata": {},
     "output_type": "execute_result"
    }
   ],
   "source": [
    "train_meta['distances'][:2]"
   ]
  },
  {
   "cell_type": "code",
   "execution_count": 34,
   "id": "8797b0eb-e6cb-4984-a211-dac7a000bae4",
   "metadata": {},
   "outputs": [],
   "source": [
    "image_ids = [image[\"image_id\"] for image in train_meta[\"images\"]]\n",
    "image_dirs = [train_dir + image['file_name'] for image in train_meta[\"images\"]]\n",
    "category_ids = [annotation['category_id'] for annotation in train_meta['annotations']]\n",
    "genus_ids = [annotation['genus_id'] for annotation in train_meta['annotations']]\n",
    "institutions_ids = [annotation['institution_id'] for annotation in train_meta['annotations']]\n",
    "\n",
    "test_ids = [image['image_id'] for image in test_meta]\n",
    "test_dirs = [test_dir + image['file_name'] for image in test_meta]\n",
    "\n",
    "train_df = pd.DataFrame({\n",
    "    \"image_id\" : image_ids,\n",
    "    \"image_dir\" : image_dirs,\n",
    "    \"category\" : category_ids,\n",
    "    \"genus\" : genus_ids,\n",
    "    \"institutions\" : institutions_ids})\n",
    "\n",
    "test_df = pd.DataFrame({\n",
    "    \"test_id\" : test_ids,\n",
    "    \"test_dir\" : test_dirs\n",
    "})"
   ]
  },
  {
   "cell_type": "code",
   "execution_count": 35,
   "id": "5785e96e-c89d-4ee4-987b-c359d85c96d0",
   "metadata": {},
   "outputs": [
    {
     "data": {
      "text/html": [
       "<div>\n",
       "<style scoped>\n",
       "    .dataframe tbody tr th:only-of-type {\n",
       "        vertical-align: middle;\n",
       "    }\n",
       "\n",
       "    .dataframe tbody tr th {\n",
       "        vertical-align: top;\n",
       "    }\n",
       "\n",
       "    .dataframe thead th {\n",
       "        text-align: right;\n",
       "    }\n",
       "</style>\n",
       "<table border=\"1\" class=\"dataframe\">\n",
       "  <thead>\n",
       "    <tr style=\"text-align: right;\">\n",
       "      <th></th>\n",
       "      <th>image_id</th>\n",
       "      <th>image_dir</th>\n",
       "      <th>category</th>\n",
       "      <th>genus</th>\n",
       "      <th>institutions</th>\n",
       "    </tr>\n",
       "  </thead>\n",
       "  <tbody>\n",
       "    <tr>\n",
       "      <th>0</th>\n",
       "      <td>00000__001</td>\n",
       "      <td>../dataset/herbarium_2022/train_images/000/00/...</td>\n",
       "      <td>0</td>\n",
       "      <td>1</td>\n",
       "      <td>0</td>\n",
       "    </tr>\n",
       "    <tr>\n",
       "      <th>1</th>\n",
       "      <td>00000__002</td>\n",
       "      <td>../dataset/herbarium_2022/train_images/000/00/...</td>\n",
       "      <td>0</td>\n",
       "      <td>1</td>\n",
       "      <td>0</td>\n",
       "    </tr>\n",
       "    <tr>\n",
       "      <th>2</th>\n",
       "      <td>00000__003</td>\n",
       "      <td>../dataset/herbarium_2022/train_images/000/00/...</td>\n",
       "      <td>0</td>\n",
       "      <td>1</td>\n",
       "      <td>0</td>\n",
       "    </tr>\n",
       "    <tr>\n",
       "      <th>3</th>\n",
       "      <td>00000__004</td>\n",
       "      <td>../dataset/herbarium_2022/train_images/000/00/...</td>\n",
       "      <td>0</td>\n",
       "      <td>1</td>\n",
       "      <td>0</td>\n",
       "    </tr>\n",
       "    <tr>\n",
       "      <th>4</th>\n",
       "      <td>00000__005</td>\n",
       "      <td>../dataset/herbarium_2022/train_images/000/00/...</td>\n",
       "      <td>0</td>\n",
       "      <td>1</td>\n",
       "      <td>0</td>\n",
       "    </tr>\n",
       "  </tbody>\n",
       "</table>\n",
       "</div>"
      ],
      "text/plain": [
       "     image_id                                          image_dir  category  \\\n",
       "0  00000__001  ../dataset/herbarium_2022/train_images/000/00/...         0   \n",
       "1  00000__002  ../dataset/herbarium_2022/train_images/000/00/...         0   \n",
       "2  00000__003  ../dataset/herbarium_2022/train_images/000/00/...         0   \n",
       "3  00000__004  ../dataset/herbarium_2022/train_images/000/00/...         0   \n",
       "4  00000__005  ../dataset/herbarium_2022/train_images/000/00/...         0   \n",
       "\n",
       "   genus  institutions  \n",
       "0      1             0  \n",
       "1      1             0  \n",
       "2      1             0  \n",
       "3      1             0  \n",
       "4      1             0  "
      ]
     },
     "execution_count": 35,
     "metadata": {},
     "output_type": "execute_result"
    }
   ],
   "source": [
    "train_df.head()"
   ]
  },
  {
   "cell_type": "code",
   "execution_count": 36,
   "id": "1ca1a77f-3d97-43c5-bae1-274ac4117911",
   "metadata": {},
   "outputs": [
    {
     "data": {
      "text/html": [
       "<div>\n",
       "<style scoped>\n",
       "    .dataframe tbody tr th:only-of-type {\n",
       "        vertical-align: middle;\n",
       "    }\n",
       "\n",
       "    .dataframe tbody tr th {\n",
       "        vertical-align: top;\n",
       "    }\n",
       "\n",
       "    .dataframe thead th {\n",
       "        text-align: right;\n",
       "    }\n",
       "</style>\n",
       "<table border=\"1\" class=\"dataframe\">\n",
       "  <thead>\n",
       "    <tr style=\"text-align: right;\">\n",
       "      <th></th>\n",
       "      <th>image_id</th>\n",
       "      <th>image_dir</th>\n",
       "      <th>category</th>\n",
       "      <th>genus</th>\n",
       "      <th>institutions</th>\n",
       "    </tr>\n",
       "  </thead>\n",
       "  <tbody>\n",
       "    <tr>\n",
       "      <th>839767</th>\n",
       "      <td>15504__032</td>\n",
       "      <td>../dataset/herbarium_2022/train_images/155/04/...</td>\n",
       "      <td>15504</td>\n",
       "      <td>Zygophyllum</td>\n",
       "      <td>55</td>\n",
       "    </tr>\n",
       "    <tr>\n",
       "      <th>839768</th>\n",
       "      <td>15504__033</td>\n",
       "      <td>../dataset/herbarium_2022/train_images/155/04/...</td>\n",
       "      <td>15504</td>\n",
       "      <td>Zygophyllum</td>\n",
       "      <td>53</td>\n",
       "    </tr>\n",
       "    <tr>\n",
       "      <th>839769</th>\n",
       "      <td>15504__035</td>\n",
       "      <td>../dataset/herbarium_2022/train_images/155/04/...</td>\n",
       "      <td>15504</td>\n",
       "      <td>Zygophyllum</td>\n",
       "      <td>13</td>\n",
       "    </tr>\n",
       "    <tr>\n",
       "      <th>839770</th>\n",
       "      <td>15504__036</td>\n",
       "      <td>../dataset/herbarium_2022/train_images/155/04/...</td>\n",
       "      <td>15504</td>\n",
       "      <td>Zygophyllum</td>\n",
       "      <td>13</td>\n",
       "    </tr>\n",
       "    <tr>\n",
       "      <th>839771</th>\n",
       "      <td>15504__037</td>\n",
       "      <td>../dataset/herbarium_2022/train_images/155/04/...</td>\n",
       "      <td>15504</td>\n",
       "      <td>Zygophyllum</td>\n",
       "      <td>13</td>\n",
       "    </tr>\n",
       "  </tbody>\n",
       "</table>\n",
       "</div>"
      ],
      "text/plain": [
       "          image_id                                          image_dir  \\\n",
       "839767  15504__032  ../dataset/herbarium_2022/train_images/155/04/...   \n",
       "839768  15504__033  ../dataset/herbarium_2022/train_images/155/04/...   \n",
       "839769  15504__035  ../dataset/herbarium_2022/train_images/155/04/...   \n",
       "839770  15504__036  ../dataset/herbarium_2022/train_images/155/04/...   \n",
       "839771  15504__037  ../dataset/herbarium_2022/train_images/155/04/...   \n",
       "\n",
       "        category        genus  institutions  \n",
       "839767     15504  Zygophyllum            55  \n",
       "839768     15504  Zygophyllum            53  \n",
       "839769     15504  Zygophyllum            13  \n",
       "839770     15504  Zygophyllum            13  \n",
       "839771     15504  Zygophyllum            13  "
      ]
     },
     "execution_count": 36,
     "metadata": {},
     "output_type": "execute_result"
    }
   ],
   "source": [
    "genus_map = {genus['genus_id'] : genus['genus'] for genus in train_meta['genera']}\n",
    "train_df['genus'] = train_df['genus'].map(genus_map)\n",
    "train_df.tail()"
   ]
  },
  {
   "cell_type": "code",
   "execution_count": 37,
   "id": "36bb8f23-21c8-421e-a38e-6c920d20652a",
   "metadata": {},
   "outputs": [
    {
     "name": "stdout",
     "output_type": "stream",
     "text": [
      "2564\n",
      "15501\n",
      "60\n"
     ]
    }
   ],
   "source": [
    "print(len(train_df.genus.value_counts()))\n",
    "print(len(train_df.category.value_counts()))\n",
    "print(len(train_df.institutions.value_counts()))"
   ]
  },
  {
   "cell_type": "code",
   "execution_count": 38,
   "id": "520e6297-5850-4d84-b33c-816f2e3ee77e",
   "metadata": {},
   "outputs": [
    {
     "name": "stdout",
     "output_type": "stream",
     "text": [
      "Top 15 Genus \n",
      "2774     80\n",
      "8854     80\n",
      "12540    80\n",
      "10805    80\n",
      "12530    80\n",
      "1146     80\n",
      "4661     80\n",
      "1145     80\n",
      "12524    80\n",
      "2876     80\n",
      "8800     80\n",
      "8794     80\n",
      "4641     80\n",
      "2889     80\n",
      "12515    80\n",
      "Name: category, dtype: int64\n"
     ]
    }
   ],
   "source": [
    "print('Top 15 Genus ')\n",
    "print(train_df['category'].value_counts().head(15))"
   ]
  },
  {
   "cell_type": "code",
   "execution_count": 57,
   "id": "aa6d1e8c-40a4-493e-8352-77904470e049",
   "metadata": {},
   "outputs": [
    {
     "data": {
      "text/html": [
       "<div>\n",
       "<style scoped>\n",
       "    .dataframe tbody tr th:only-of-type {\n",
       "        vertical-align: middle;\n",
       "    }\n",
       "\n",
       "    .dataframe tbody tr th {\n",
       "        vertical-align: top;\n",
       "    }\n",
       "\n",
       "    .dataframe thead th {\n",
       "        text-align: right;\n",
       "    }\n",
       "</style>\n",
       "<table border=\"1\" class=\"dataframe\">\n",
       "  <thead>\n",
       "    <tr style=\"text-align: right;\">\n",
       "      <th></th>\n",
       "      <th>image_id</th>\n",
       "      <th>image_dir</th>\n",
       "      <th>category</th>\n",
       "      <th>genus</th>\n",
       "      <th>institutions</th>\n",
       "    </tr>\n",
       "  </thead>\n",
       "  <tbody>\n",
       "    <tr>\n",
       "      <th>0</th>\n",
       "      <td>00000__001</td>\n",
       "      <td>../dataset/herbarium_2022/train_images/000/00/...</td>\n",
       "      <td>0</td>\n",
       "      <td>Abies</td>\n",
       "      <td>0</td>\n",
       "    </tr>\n",
       "    <tr>\n",
       "      <th>1</th>\n",
       "      <td>00000__002</td>\n",
       "      <td>../dataset/herbarium_2022/train_images/000/00/...</td>\n",
       "      <td>0</td>\n",
       "      <td>Abies</td>\n",
       "      <td>0</td>\n",
       "    </tr>\n",
       "    <tr>\n",
       "      <th>2</th>\n",
       "      <td>00000__003</td>\n",
       "      <td>../dataset/herbarium_2022/train_images/000/00/...</td>\n",
       "      <td>0</td>\n",
       "      <td>Abies</td>\n",
       "      <td>0</td>\n",
       "    </tr>\n",
       "    <tr>\n",
       "      <th>3</th>\n",
       "      <td>00000__004</td>\n",
       "      <td>../dataset/herbarium_2022/train_images/000/00/...</td>\n",
       "      <td>0</td>\n",
       "      <td>Abies</td>\n",
       "      <td>0</td>\n",
       "    </tr>\n",
       "    <tr>\n",
       "      <th>4</th>\n",
       "      <td>00000__005</td>\n",
       "      <td>../dataset/herbarium_2022/train_images/000/00/...</td>\n",
       "      <td>0</td>\n",
       "      <td>Abies</td>\n",
       "      <td>0</td>\n",
       "    </tr>\n",
       "  </tbody>\n",
       "</table>\n",
       "</div>"
      ],
      "text/plain": [
       "     image_id                                          image_dir  category  \\\n",
       "0  00000__001  ../dataset/herbarium_2022/train_images/000/00/...         0   \n",
       "1  00000__002  ../dataset/herbarium_2022/train_images/000/00/...         0   \n",
       "2  00000__003  ../dataset/herbarium_2022/train_images/000/00/...         0   \n",
       "3  00000__004  ../dataset/herbarium_2022/train_images/000/00/...         0   \n",
       "4  00000__005  ../dataset/herbarium_2022/train_images/000/00/...         0   \n",
       "\n",
       "   genus  institutions  \n",
       "0  Abies             0  \n",
       "1  Abies             0  \n",
       "2  Abies             0  \n",
       "3  Abies             0  \n",
       "4  Abies             0  "
      ]
     },
     "execution_count": 57,
     "metadata": {},
     "output_type": "execute_result"
    }
   ],
   "source": [
    "train_df.head()"
   ]
  },
  {
   "cell_type": "code",
   "execution_count": 60,
   "id": "733870f2-d87e-4e8d-8b3a-8dc4a38d5816",
   "metadata": {},
   "outputs": [],
   "source": [
    "def stratified_split_train_val(df, target_variable_name, test_size=0.2, random_state=None):\n",
    "    '''\n",
    "    Replaced with the function balance_val_split, which returns subset of the original dataset,\n",
    "    instead of returning subsetted pandas DataFrames.\n",
    "    '''\n",
    "    targets = df[target_variable_name].tolist()\n",
    "    train_idx, val_idx = train_test_split(\n",
    "                           np.arange(len(targets)),\n",
    "                           test_size=test_size,\n",
    "                           shuffle=True,\n",
    "                           stratify=targets,\n",
    "                           random_state=random_state)\n",
    "    df_train = df.iloc[train_idx]\n",
    "    df_val = df.iloc[val_idx]\n",
    "\n",
    "    return df_train, df_val, train_idx, val_idx"
   ]
  },
  {
   "cell_type": "code",
   "execution_count": 62,
   "id": "07d6f2e1-49e4-4c37-99cd-50a6c7e887ad",
   "metadata": {},
   "outputs": [
    {
     "data": {
      "text/html": [
       "<div>\n",
       "<style scoped>\n",
       "    .dataframe tbody tr th:only-of-type {\n",
       "        vertical-align: middle;\n",
       "    }\n",
       "\n",
       "    .dataframe tbody tr th {\n",
       "        vertical-align: top;\n",
       "    }\n",
       "\n",
       "    .dataframe thead th {\n",
       "        text-align: right;\n",
       "    }\n",
       "</style>\n",
       "<table border=\"1\" class=\"dataframe\">\n",
       "  <thead>\n",
       "    <tr style=\"text-align: right;\">\n",
       "      <th></th>\n",
       "      <th>image_id</th>\n",
       "      <th>image_dir</th>\n",
       "      <th>category</th>\n",
       "      <th>genus</th>\n",
       "      <th>institutions</th>\n",
       "    </tr>\n",
       "  </thead>\n",
       "  <tbody>\n",
       "    <tr>\n",
       "      <th>0</th>\n",
       "      <td>00000__001</td>\n",
       "      <td>../dataset/herbarium_2022/train_images/000/00/...</td>\n",
       "      <td>0</td>\n",
       "      <td>Abies</td>\n",
       "      <td>0</td>\n",
       "    </tr>\n",
       "    <tr>\n",
       "      <th>1</th>\n",
       "      <td>00000__002</td>\n",
       "      <td>../dataset/herbarium_2022/train_images/000/00/...</td>\n",
       "      <td>0</td>\n",
       "      <td>Abies</td>\n",
       "      <td>0</td>\n",
       "    </tr>\n",
       "    <tr>\n",
       "      <th>2</th>\n",
       "      <td>00000__003</td>\n",
       "      <td>../dataset/herbarium_2022/train_images/000/00/...</td>\n",
       "      <td>0</td>\n",
       "      <td>Abies</td>\n",
       "      <td>0</td>\n",
       "    </tr>\n",
       "    <tr>\n",
       "      <th>3</th>\n",
       "      <td>00000__004</td>\n",
       "      <td>../dataset/herbarium_2022/train_images/000/00/...</td>\n",
       "      <td>0</td>\n",
       "      <td>Abies</td>\n",
       "      <td>0</td>\n",
       "    </tr>\n",
       "    <tr>\n",
       "      <th>4</th>\n",
       "      <td>00000__005</td>\n",
       "      <td>../dataset/herbarium_2022/train_images/000/00/...</td>\n",
       "      <td>0</td>\n",
       "      <td>Abies</td>\n",
       "      <td>0</td>\n",
       "    </tr>\n",
       "  </tbody>\n",
       "</table>\n",
       "</div>"
      ],
      "text/plain": [
       "     image_id                                          image_dir  category  \\\n",
       "0  00000__001  ../dataset/herbarium_2022/train_images/000/00/...         0   \n",
       "1  00000__002  ../dataset/herbarium_2022/train_images/000/00/...         0   \n",
       "2  00000__003  ../dataset/herbarium_2022/train_images/000/00/...         0   \n",
       "3  00000__004  ../dataset/herbarium_2022/train_images/000/00/...         0   \n",
       "4  00000__005  ../dataset/herbarium_2022/train_images/000/00/...         0   \n",
       "\n",
       "   genus  institutions  \n",
       "0  Abies             0  \n",
       "1  Abies             0  \n",
       "2  Abies             0  \n",
       "3  Abies             0  \n",
       "4  Abies             0  "
      ]
     },
     "execution_count": 62,
     "metadata": {},
     "output_type": "execute_result"
    }
   ],
   "source": [
    "train_df.head()"
   ]
  },
  {
   "cell_type": "code",
   "execution_count": 65,
   "id": "39035ca0-a190-4913-9ae2-d7db4bdbb795",
   "metadata": {},
   "outputs": [],
   "source": [
    "targets = train_df['category']\n",
    "train_idx, val_idx = train_test_split(\n",
    "                       np.arange(len(train_df)),\n",
    "                       test_size=0.25,\n",
    "                       shuffle=True,\n",
    "                       stratify=targets,\n",
    "                       random_state=None)"
   ]
  },
  {
   "cell_type": "code",
   "execution_count": 69,
   "id": "2ee0d067-893f-4594-9690-fa79669eaed1",
   "metadata": {},
   "outputs": [
    {
     "ename": "KeyError",
     "evalue": "\"None of [Int64Index([504160,  98113, 490231, 378009, 475749, 666755, 559529, 803861,\\n            601639, 816016,\\n            ...\\n             71477, 215289, 243714, 255944, 653411,  49100, 564687,  14382,\\n            822062, 384551],\\n           dtype='int64', length=629829)] are in the [columns]\"",
     "output_type": "error",
     "traceback": [
      "\u001b[0;31m---------------------------------------------------------------------------\u001b[0m",
      "\u001b[0;31mKeyError\u001b[0m                                  Traceback (most recent call last)",
      "Input \u001b[0;32mIn [69]\u001b[0m, in \u001b[0;36m<cell line: 1>\u001b[0;34m()\u001b[0m\n\u001b[0;32m----> 1\u001b[0m \u001b[43mtrain_df\u001b[49m\u001b[43m[\u001b[49m\u001b[43mtrain_idx\u001b[49m\u001b[43m]\u001b[49m\u001b[38;5;241m.\u001b[39mshape\n",
      "File \u001b[0;32m~/anaconda3/envs/pl/lib/python3.8/site-packages/pandas/core/frame.py:3511\u001b[0m, in \u001b[0;36mDataFrame.__getitem__\u001b[0;34m(self, key)\u001b[0m\n\u001b[1;32m   3509\u001b[0m     \u001b[38;5;28;01mif\u001b[39;00m is_iterator(key):\n\u001b[1;32m   3510\u001b[0m         key \u001b[38;5;241m=\u001b[39m \u001b[38;5;28mlist\u001b[39m(key)\n\u001b[0;32m-> 3511\u001b[0m     indexer \u001b[38;5;241m=\u001b[39m \u001b[38;5;28;43mself\u001b[39;49m\u001b[38;5;241;43m.\u001b[39;49m\u001b[43mcolumns\u001b[49m\u001b[38;5;241;43m.\u001b[39;49m\u001b[43m_get_indexer_strict\u001b[49m\u001b[43m(\u001b[49m\u001b[43mkey\u001b[49m\u001b[43m,\u001b[49m\u001b[43m \u001b[49m\u001b[38;5;124;43m\"\u001b[39;49m\u001b[38;5;124;43mcolumns\u001b[39;49m\u001b[38;5;124;43m\"\u001b[39;49m\u001b[43m)\u001b[49m[\u001b[38;5;241m1\u001b[39m]\n\u001b[1;32m   3513\u001b[0m \u001b[38;5;66;03m# take() does not accept boolean indexers\u001b[39;00m\n\u001b[1;32m   3514\u001b[0m \u001b[38;5;28;01mif\u001b[39;00m \u001b[38;5;28mgetattr\u001b[39m(indexer, \u001b[38;5;124m\"\u001b[39m\u001b[38;5;124mdtype\u001b[39m\u001b[38;5;124m\"\u001b[39m, \u001b[38;5;28;01mNone\u001b[39;00m) \u001b[38;5;241m==\u001b[39m \u001b[38;5;28mbool\u001b[39m:\n",
      "File \u001b[0;32m~/anaconda3/envs/pl/lib/python3.8/site-packages/pandas/core/indexes/base.py:5782\u001b[0m, in \u001b[0;36mIndex._get_indexer_strict\u001b[0;34m(self, key, axis_name)\u001b[0m\n\u001b[1;32m   5779\u001b[0m \u001b[38;5;28;01melse\u001b[39;00m:\n\u001b[1;32m   5780\u001b[0m     keyarr, indexer, new_indexer \u001b[38;5;241m=\u001b[39m \u001b[38;5;28mself\u001b[39m\u001b[38;5;241m.\u001b[39m_reindex_non_unique(keyarr)\n\u001b[0;32m-> 5782\u001b[0m \u001b[38;5;28;43mself\u001b[39;49m\u001b[38;5;241;43m.\u001b[39;49m\u001b[43m_raise_if_missing\u001b[49m\u001b[43m(\u001b[49m\u001b[43mkeyarr\u001b[49m\u001b[43m,\u001b[49m\u001b[43m \u001b[49m\u001b[43mindexer\u001b[49m\u001b[43m,\u001b[49m\u001b[43m \u001b[49m\u001b[43maxis_name\u001b[49m\u001b[43m)\u001b[49m\n\u001b[1;32m   5784\u001b[0m keyarr \u001b[38;5;241m=\u001b[39m \u001b[38;5;28mself\u001b[39m\u001b[38;5;241m.\u001b[39mtake(indexer)\n\u001b[1;32m   5785\u001b[0m \u001b[38;5;28;01mif\u001b[39;00m \u001b[38;5;28misinstance\u001b[39m(key, Index):\n\u001b[1;32m   5786\u001b[0m     \u001b[38;5;66;03m# GH 42790 - Preserve name from an Index\u001b[39;00m\n",
      "File \u001b[0;32m~/anaconda3/envs/pl/lib/python3.8/site-packages/pandas/core/indexes/base.py:5842\u001b[0m, in \u001b[0;36mIndex._raise_if_missing\u001b[0;34m(self, key, indexer, axis_name)\u001b[0m\n\u001b[1;32m   5840\u001b[0m     \u001b[38;5;28;01mif\u001b[39;00m use_interval_msg:\n\u001b[1;32m   5841\u001b[0m         key \u001b[38;5;241m=\u001b[39m \u001b[38;5;28mlist\u001b[39m(key)\n\u001b[0;32m-> 5842\u001b[0m     \u001b[38;5;28;01mraise\u001b[39;00m \u001b[38;5;167;01mKeyError\u001b[39;00m(\u001b[38;5;124mf\u001b[39m\u001b[38;5;124m\"\u001b[39m\u001b[38;5;124mNone of [\u001b[39m\u001b[38;5;132;01m{\u001b[39;00mkey\u001b[38;5;132;01m}\u001b[39;00m\u001b[38;5;124m] are in the [\u001b[39m\u001b[38;5;132;01m{\u001b[39;00maxis_name\u001b[38;5;132;01m}\u001b[39;00m\u001b[38;5;124m]\u001b[39m\u001b[38;5;124m\"\u001b[39m)\n\u001b[1;32m   5844\u001b[0m not_found \u001b[38;5;241m=\u001b[39m \u001b[38;5;28mlist\u001b[39m(ensure_index(key)[missing_mask\u001b[38;5;241m.\u001b[39mnonzero()[\u001b[38;5;241m0\u001b[39m]]\u001b[38;5;241m.\u001b[39munique())\n\u001b[1;32m   5845\u001b[0m \u001b[38;5;28;01mraise\u001b[39;00m \u001b[38;5;167;01mKeyError\u001b[39;00m(\u001b[38;5;124mf\u001b[39m\u001b[38;5;124m\"\u001b[39m\u001b[38;5;132;01m{\u001b[39;00mnot_found\u001b[38;5;132;01m}\u001b[39;00m\u001b[38;5;124m not in index\u001b[39m\u001b[38;5;124m\"\u001b[39m)\n",
      "\u001b[0;31mKeyError\u001b[0m: \"None of [Int64Index([504160,  98113, 490231, 378009, 475749, 666755, 559529, 803861,\\n            601639, 816016,\\n            ...\\n             71477, 215289, 243714, 255944, 653411,  49100, 564687,  14382,\\n            822062, 384551],\\n           dtype='int64', length=629829)] are in the [columns]\""
     ]
    }
   ],
   "source": []
  },
  {
   "cell_type": "code",
   "execution_count": null,
   "id": "c14f1124-0ad0-42b8-a9f8-6b825a049e45",
   "metadata": {},
   "outputs": [],
   "source": []
  },
  {
   "cell_type": "code",
   "execution_count": null,
   "id": "71723f39-a5f4-41de-b972-26702e7cac62",
   "metadata": {},
   "outputs": [],
   "source": []
  },
  {
   "cell_type": "code",
   "execution_count": null,
   "id": "62a0e3ac-5d7a-460e-84d6-6ae6a60d0fc8",
   "metadata": {},
   "outputs": [],
   "source": []
  }
 ],
 "metadata": {
  "kernelspec": {
   "display_name": "pl",
   "language": "python",
   "name": "pl"
  },
  "language_info": {
   "codemirror_mode": {
    "name": "ipython",
    "version": 3
   },
   "file_extension": ".py",
   "mimetype": "text/x-python",
   "name": "python",
   "nbconvert_exporter": "python",
   "pygments_lexer": "ipython3",
   "version": "3.8.13"
  }
 },
 "nbformat": 4,
 "nbformat_minor": 5
}
