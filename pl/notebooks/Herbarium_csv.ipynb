{
 "cells": [
  {
   "cell_type": "code",
   "execution_count": 1,
   "id": "412d3146-c3af-4c7e-8f70-625085de60a3",
   "metadata": {},
   "outputs": [],
   "source": [
    "import pandas as pd\n",
    "import numpy as np\n",
    "import json\n",
    "import matplotlib.pyplot as plt\n",
    "import seaborn as sns\n",
    "import cv2\n",
    "import os"
   ]
  },
  {
   "cell_type": "code",
   "execution_count": 4,
   "id": "f05f2188-d1cc-40b7-afbf-244b6c69047a",
   "metadata": {},
   "outputs": [],
   "source": [
    "\n",
    "path = '../../dataset/'\n",
    "train_dir = path + 'train_images/'\n",
    "test_dir = path + 'test_images/'\n",
    "\n",
    "with open( path + \"train_metadata.json\") as json_file:\n",
    "    train_meta = json.load(json_file)\n",
    "with open(path + \"test_metadata.json\") as json_file:\n",
    "    test_meta = json.load(json_file)\n"
   ]
  },
  {
   "cell_type": "code",
   "execution_count": 5,
   "id": "5cc14b5b-2e7f-46cf-bf30-cf632d80b188",
   "metadata": {},
   "outputs": [
    {
     "data": {
      "text/plain": [
       "dict_keys(['annotations', 'images', 'categories', 'genera', 'institutions', 'distances', 'license'])"
      ]
     },
     "execution_count": 5,
     "metadata": {},
     "output_type": "execute_result"
    }
   ],
   "source": [
    "train_meta.keys()"
   ]
  },
  {
   "cell_type": "code",
   "execution_count": 6,
   "id": "a3f49ad4-fcb3-4cd7-842f-d6259be02ca1",
   "metadata": {},
   "outputs": [
    {
     "data": {
      "text/plain": [
       "[{'genus_id': 1,\n",
       "  'institution_id': 0,\n",
       "  'category_id': 0,\n",
       "  'image_id': '00000__001'},\n",
       " {'genus_id': 1,\n",
       "  'institution_id': 0,\n",
       "  'category_id': 0,\n",
       "  'image_id': '00000__002'}]"
      ]
     },
     "execution_count": 6,
     "metadata": {},
     "output_type": "execute_result"
    }
   ],
   "source": [
    "train_meta['annotations'][:2]"
   ]
  },
  {
   "cell_type": "code",
   "execution_count": 7,
   "id": "21731563-73af-4112-8bfc-5d05692678da",
   "metadata": {},
   "outputs": [
    {
     "data": {
      "text/plain": [
       "[{'genus_id_x': 2508, 'genus_id_y': 2576, 'distance': 0.0325632},\n",
       " {'genus_id_x': 2508, 'genus_id_y': 2518, 'distance': 0.0254073}]"
      ]
     },
     "execution_count": 7,
     "metadata": {},
     "output_type": "execute_result"
    }
   ],
   "source": [
    "train_meta['distances'][:2]"
   ]
  },
  {
   "cell_type": "code",
   "execution_count": 8,
   "id": "8797b0eb-e6cb-4984-a211-dac7a000bae4",
   "metadata": {},
   "outputs": [],
   "source": [
    "image_ids = [image[\"image_id\"] for image in train_meta[\"images\"]]\n",
    "image_dirs = [train_dir + image['file_name'] for image in train_meta[\"images\"]]\n",
    "category_ids = [annotation['category_id'] for annotation in train_meta['annotations']]\n",
    "genus_ids = [annotation['genus_id'] for annotation in train_meta['annotations']]\n",
    "institutions_ids = [annotation['institution_id'] for annotation in train_meta['annotations']]\n",
    "\n",
    "test_ids = [image['image_id'] for image in test_meta]\n",
    "test_dirs = [test_dir + image['file_name'] for image in test_meta]\n",
    "\n",
    "train_df = pd.DataFrame({\n",
    "    \"image_id\" : image_ids,\n",
    "    \"image_dir\" : image_dirs,\n",
    "    \"category\" : category_ids,\n",
    "    \"genus\" : genus_ids,\n",
    "    \"institutions\" : institutions_ids})\n",
    "\n",
    "test_df = pd.DataFrame({\n",
    "    \"test_id\" : test_ids,\n",
    "    \"test_dir\" : test_dirs\n",
    "})"
   ]
  },
  {
   "cell_type": "code",
   "execution_count": 9,
   "id": "5785e96e-c89d-4ee4-987b-c359d85c96d0",
   "metadata": {},
   "outputs": [
    {
     "data": {
      "text/html": [
       "<div>\n",
       "<style scoped>\n",
       "    .dataframe tbody tr th:only-of-type {\n",
       "        vertical-align: middle;\n",
       "    }\n",
       "\n",
       "    .dataframe tbody tr th {\n",
       "        vertical-align: top;\n",
       "    }\n",
       "\n",
       "    .dataframe thead th {\n",
       "        text-align: right;\n",
       "    }\n",
       "</style>\n",
       "<table border=\"1\" class=\"dataframe\">\n",
       "  <thead>\n",
       "    <tr style=\"text-align: right;\">\n",
       "      <th></th>\n",
       "      <th>image_id</th>\n",
       "      <th>image_dir</th>\n",
       "      <th>category</th>\n",
       "      <th>genus</th>\n",
       "      <th>institutions</th>\n",
       "    </tr>\n",
       "  </thead>\n",
       "  <tbody>\n",
       "    <tr>\n",
       "      <th>0</th>\n",
       "      <td>00000__001</td>\n",
       "      <td>../../dataset/train_images/000/00/00000__001.jpg</td>\n",
       "      <td>0</td>\n",
       "      <td>1</td>\n",
       "      <td>0</td>\n",
       "    </tr>\n",
       "    <tr>\n",
       "      <th>1</th>\n",
       "      <td>00000__002</td>\n",
       "      <td>../../dataset/train_images/000/00/00000__002.jpg</td>\n",
       "      <td>0</td>\n",
       "      <td>1</td>\n",
       "      <td>0</td>\n",
       "    </tr>\n",
       "    <tr>\n",
       "      <th>2</th>\n",
       "      <td>00000__003</td>\n",
       "      <td>../../dataset/train_images/000/00/00000__003.jpg</td>\n",
       "      <td>0</td>\n",
       "      <td>1</td>\n",
       "      <td>0</td>\n",
       "    </tr>\n",
       "    <tr>\n",
       "      <th>3</th>\n",
       "      <td>00000__004</td>\n",
       "      <td>../../dataset/train_images/000/00/00000__004.jpg</td>\n",
       "      <td>0</td>\n",
       "      <td>1</td>\n",
       "      <td>0</td>\n",
       "    </tr>\n",
       "    <tr>\n",
       "      <th>4</th>\n",
       "      <td>00000__005</td>\n",
       "      <td>../../dataset/train_images/000/00/00000__005.jpg</td>\n",
       "      <td>0</td>\n",
       "      <td>1</td>\n",
       "      <td>0</td>\n",
       "    </tr>\n",
       "  </tbody>\n",
       "</table>\n",
       "</div>"
      ],
      "text/plain": [
       "     image_id                                         image_dir  category  \\\n",
       "0  00000__001  ../../dataset/train_images/000/00/00000__001.jpg         0   \n",
       "1  00000__002  ../../dataset/train_images/000/00/00000__002.jpg         0   \n",
       "2  00000__003  ../../dataset/train_images/000/00/00000__003.jpg         0   \n",
       "3  00000__004  ../../dataset/train_images/000/00/00000__004.jpg         0   \n",
       "4  00000__005  ../../dataset/train_images/000/00/00000__005.jpg         0   \n",
       "\n",
       "   genus  institutions  \n",
       "0      1             0  \n",
       "1      1             0  \n",
       "2      1             0  \n",
       "3      1             0  \n",
       "4      1             0  "
      ]
     },
     "execution_count": 9,
     "metadata": {},
     "output_type": "execute_result"
    }
   ],
   "source": [
    "train_df.head()"
   ]
  },
  {
   "cell_type": "code",
   "execution_count": 10,
   "id": "1ca1a77f-3d97-43c5-bae1-274ac4117911",
   "metadata": {},
   "outputs": [
    {
     "data": {
      "text/html": [
       "<div>\n",
       "<style scoped>\n",
       "    .dataframe tbody tr th:only-of-type {\n",
       "        vertical-align: middle;\n",
       "    }\n",
       "\n",
       "    .dataframe tbody tr th {\n",
       "        vertical-align: top;\n",
       "    }\n",
       "\n",
       "    .dataframe thead th {\n",
       "        text-align: right;\n",
       "    }\n",
       "</style>\n",
       "<table border=\"1\" class=\"dataframe\">\n",
       "  <thead>\n",
       "    <tr style=\"text-align: right;\">\n",
       "      <th></th>\n",
       "      <th>image_id</th>\n",
       "      <th>image_dir</th>\n",
       "      <th>category</th>\n",
       "      <th>genus</th>\n",
       "      <th>institutions</th>\n",
       "    </tr>\n",
       "  </thead>\n",
       "  <tbody>\n",
       "    <tr>\n",
       "      <th>839767</th>\n",
       "      <td>15504__032</td>\n",
       "      <td>../../dataset/train_images/155/04/15504__032.jpg</td>\n",
       "      <td>15504</td>\n",
       "      <td>Zygophyllum</td>\n",
       "      <td>55</td>\n",
       "    </tr>\n",
       "    <tr>\n",
       "      <th>839768</th>\n",
       "      <td>15504__033</td>\n",
       "      <td>../../dataset/train_images/155/04/15504__033.jpg</td>\n",
       "      <td>15504</td>\n",
       "      <td>Zygophyllum</td>\n",
       "      <td>53</td>\n",
       "    </tr>\n",
       "    <tr>\n",
       "      <th>839769</th>\n",
       "      <td>15504__035</td>\n",
       "      <td>../../dataset/train_images/155/04/15504__035.jpg</td>\n",
       "      <td>15504</td>\n",
       "      <td>Zygophyllum</td>\n",
       "      <td>13</td>\n",
       "    </tr>\n",
       "    <tr>\n",
       "      <th>839770</th>\n",
       "      <td>15504__036</td>\n",
       "      <td>../../dataset/train_images/155/04/15504__036.jpg</td>\n",
       "      <td>15504</td>\n",
       "      <td>Zygophyllum</td>\n",
       "      <td>13</td>\n",
       "    </tr>\n",
       "    <tr>\n",
       "      <th>839771</th>\n",
       "      <td>15504__037</td>\n",
       "      <td>../../dataset/train_images/155/04/15504__037.jpg</td>\n",
       "      <td>15504</td>\n",
       "      <td>Zygophyllum</td>\n",
       "      <td>13</td>\n",
       "    </tr>\n",
       "  </tbody>\n",
       "</table>\n",
       "</div>"
      ],
      "text/plain": [
       "          image_id                                         image_dir  \\\n",
       "839767  15504__032  ../../dataset/train_images/155/04/15504__032.jpg   \n",
       "839768  15504__033  ../../dataset/train_images/155/04/15504__033.jpg   \n",
       "839769  15504__035  ../../dataset/train_images/155/04/15504__035.jpg   \n",
       "839770  15504__036  ../../dataset/train_images/155/04/15504__036.jpg   \n",
       "839771  15504__037  ../../dataset/train_images/155/04/15504__037.jpg   \n",
       "\n",
       "        category        genus  institutions  \n",
       "839767     15504  Zygophyllum            55  \n",
       "839768     15504  Zygophyllum            53  \n",
       "839769     15504  Zygophyllum            13  \n",
       "839770     15504  Zygophyllum            13  \n",
       "839771     15504  Zygophyllum            13  "
      ]
     },
     "execution_count": 10,
     "metadata": {},
     "output_type": "execute_result"
    }
   ],
   "source": [
    "genus_map = {genus['genus_id'] : genus['genus'] for genus in train_meta['genera']}\n",
    "train_df['genus'] = train_df['genus'].map(genus_map)\n",
    "train_df.tail()"
   ]
  },
  {
   "cell_type": "code",
   "execution_count": 11,
   "id": "36bb8f23-21c8-421e-a38e-6c920d20652a",
   "metadata": {},
   "outputs": [
    {
     "name": "stdout",
     "output_type": "stream",
     "text": [
      "2564\n",
      "15501\n",
      "60\n"
     ]
    }
   ],
   "source": [
    "print(len(train_df.genus.value_counts()))\n",
    "print(len(train_df.category.value_counts()))\n",
    "print(len(train_df.institutions.value_counts()))"
   ]
  },
  {
   "cell_type": "code",
   "execution_count": 12,
   "id": "520e6297-5850-4d84-b33c-816f2e3ee77e",
   "metadata": {},
   "outputs": [
    {
     "name": "stdout",
     "output_type": "stream",
     "text": [
      "Top 15 Genus \n",
      "2774     80\n",
      "8854     80\n",
      "12540    80\n",
      "10805    80\n",
      "12530    80\n",
      "1146     80\n",
      "4661     80\n",
      "1145     80\n",
      "12524    80\n",
      "2876     80\n",
      "8800     80\n",
      "8794     80\n",
      "4641     80\n",
      "2889     80\n",
      "12515    80\n",
      "Name: category, dtype: int64\n"
     ]
    }
   ],
   "source": [
    "print('Top 15 Genus ')\n",
    "print(train_df['category'].value_counts().head(15))"
   ]
  },
  {
   "cell_type": "code",
   "execution_count": 14,
   "id": "65360a4b-0439-4c0b-93d2-9f90d1849cd8",
   "metadata": {},
   "outputs": [],
   "source": [
    "train_df.to_csv(path+ 'df.csv', index=None)"
   ]
  },
  {
   "cell_type": "code",
   "execution_count": 15,
   "id": "9fb116f1-2d6b-4f82-801e-6cc837351efb",
   "metadata": {},
   "outputs": [
    {
     "data": {
      "text/html": [
       "<div>\n",
       "<style scoped>\n",
       "    .dataframe tbody tr th:only-of-type {\n",
       "        vertical-align: middle;\n",
       "    }\n",
       "\n",
       "    .dataframe tbody tr th {\n",
       "        vertical-align: top;\n",
       "    }\n",
       "\n",
       "    .dataframe thead th {\n",
       "        text-align: right;\n",
       "    }\n",
       "</style>\n",
       "<table border=\"1\" class=\"dataframe\">\n",
       "  <thead>\n",
       "    <tr style=\"text-align: right;\">\n",
       "      <th></th>\n",
       "      <th>image_id</th>\n",
       "      <th>image_dir</th>\n",
       "      <th>category</th>\n",
       "      <th>genus</th>\n",
       "      <th>institutions</th>\n",
       "    </tr>\n",
       "  </thead>\n",
       "  <tbody>\n",
       "    <tr>\n",
       "      <th>0</th>\n",
       "      <td>00000__001</td>\n",
       "      <td>../../dataset/train_images/000/00/00000__001.jpg</td>\n",
       "      <td>0</td>\n",
       "      <td>Abies</td>\n",
       "      <td>0</td>\n",
       "    </tr>\n",
       "    <tr>\n",
       "      <th>1</th>\n",
       "      <td>00000__002</td>\n",
       "      <td>../../dataset/train_images/000/00/00000__002.jpg</td>\n",
       "      <td>0</td>\n",
       "      <td>Abies</td>\n",
       "      <td>0</td>\n",
       "    </tr>\n",
       "    <tr>\n",
       "      <th>2</th>\n",
       "      <td>00000__003</td>\n",
       "      <td>../../dataset/train_images/000/00/00000__003.jpg</td>\n",
       "      <td>0</td>\n",
       "      <td>Abies</td>\n",
       "      <td>0</td>\n",
       "    </tr>\n",
       "    <tr>\n",
       "      <th>3</th>\n",
       "      <td>00000__004</td>\n",
       "      <td>../../dataset/train_images/000/00/00000__004.jpg</td>\n",
       "      <td>0</td>\n",
       "      <td>Abies</td>\n",
       "      <td>0</td>\n",
       "    </tr>\n",
       "    <tr>\n",
       "      <th>4</th>\n",
       "      <td>00000__005</td>\n",
       "      <td>../../dataset/train_images/000/00/00000__005.jpg</td>\n",
       "      <td>0</td>\n",
       "      <td>Abies</td>\n",
       "      <td>0</td>\n",
       "    </tr>\n",
       "  </tbody>\n",
       "</table>\n",
       "</div>"
      ],
      "text/plain": [
       "     image_id                                         image_dir  category  \\\n",
       "0  00000__001  ../../dataset/train_images/000/00/00000__001.jpg         0   \n",
       "1  00000__002  ../../dataset/train_images/000/00/00000__002.jpg         0   \n",
       "2  00000__003  ../../dataset/train_images/000/00/00000__003.jpg         0   \n",
       "3  00000__004  ../../dataset/train_images/000/00/00000__004.jpg         0   \n",
       "4  00000__005  ../../dataset/train_images/000/00/00000__005.jpg         0   \n",
       "\n",
       "   genus  institutions  \n",
       "0  Abies             0  \n",
       "1  Abies             0  \n",
       "2  Abies             0  \n",
       "3  Abies             0  \n",
       "4  Abies             0  "
      ]
     },
     "execution_count": 15,
     "metadata": {},
     "output_type": "execute_result"
    }
   ],
   "source": [
    "train_df.head()"
   ]
  },
  {
   "cell_type": "code",
   "execution_count": null,
   "id": "0908f052-df72-4b7f-a62a-6aacca244cf7",
   "metadata": {},
   "outputs": [],
   "source": []
  }
 ],
 "metadata": {
  "kernelspec": {
   "display_name": "pl",
   "language": "python",
   "name": "pl"
  },
  "language_info": {
   "codemirror_mode": {
    "name": "ipython",
    "version": 3
   },
   "file_extension": ".py",
   "mimetype": "text/x-python",
   "name": "python",
   "nbconvert_exporter": "python",
   "pygments_lexer": "ipython3",
   "version": "3.8.13"
  }
 },
 "nbformat": 4,
 "nbformat_minor": 5
}
