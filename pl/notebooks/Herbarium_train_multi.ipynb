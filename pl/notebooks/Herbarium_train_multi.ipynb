{
 "cells": [
  {
   "cell_type": "code",
   "execution_count": 1,
   "id": "412d3146-c3af-4c7e-8f70-625085de60a3",
   "metadata": {},
   "outputs": [
    {
     "name": "stderr",
     "output_type": "stream",
     "text": [
      "/home/beomgon/anaconda3/envs/pl/lib/python3.8/site-packages/tqdm/auto.py:22: TqdmWarning: IProgress not found. Please update jupyter and ipywidgets. See https://ipywidgets.readthedocs.io/en/stable/user_install.html\n",
      "  from .autonotebook import tqdm as notebook_tqdm\n"
     ]
    }
   ],
   "source": [
    "import pandas as pd\n",
    "import numpy as np\n",
    "import json\n",
    "import matplotlib.pyplot as plt\n",
    "import seaborn as sns\n",
    "import cv2\n",
    "import os\n",
    "import math\n",
    "\n",
    "import torch\n",
    "import torch.nn as nn\n",
    "import torch.nn.functional as F\n",
    "import torch.optim as optim\n",
    "import torch.optim.lr_scheduler as lr_scheduler\n",
    "import torchvision \n",
    "import torchvision.transforms as transforms \n",
    "import torchvision.models as models\n",
    "from torch.utils.data import Dataset, DataLoader, Subset\n",
    "from torch.utils.data.sampler import WeightedRandomSampler\n",
    "\n",
    "from pytorch_lightning import LightningDataModule\n",
    "from pytorch_lightning import LightningModule\n",
    "from pytorch_lightning.callbacks import ModelCheckpoint, TQDMProgressBar\n",
    "from pytorch_lightning.strategies import ParallelStrategy\n",
    "from pytorch_lightning.utilities.cli import LightningCLI\n",
    "from pytorch_lightning import Trainer\n",
    "# from pytorch_lightning import loggers as pl_loggers\n",
    "from pytorch_lightning.loggers import TensorBoardLogger, WandbLogger\n",
    "from pytorch_lightning.callbacks import ModelCheckpoint, EarlyStopping, LearningRateMonitor\n",
    "from pytorch_lightning.plugins import DDPPlugin\n",
    "from torchmetrics import Accuracy, F1Score, Specificity\n",
    "\n",
    "import json\n",
    "import matplotlib.image as image \n",
    "import albumentations as A\n",
    "import albumentations.pytorch\n",
    "from sklearn.model_selection import train_test_split\n",
    "\n",
    "import sys\n",
    "sys.path.append('../')\n",
    "\n",
    "from utils.dataset_multi import *\n",
    "\n"
   ]
  },
  {
   "cell_type": "code",
   "execution_count": 2,
   "id": "14dc2585-1b5e-426a-ac98-be73e07038a9",
   "metadata": {},
   "outputs": [],
   "source": [
    "df = pd.read_csv('../../dataset/df.csv')"
   ]
  },
  {
   "cell_type": "code",
   "execution_count": 3,
   "id": "7fb6dae5-f4b9-4f23-8ea8-2295311eadff",
   "metadata": {},
   "outputs": [
    {
     "data": {
      "text/html": [
       "<div>\n",
       "<style scoped>\n",
       "    .dataframe tbody tr th:only-of-type {\n",
       "        vertical-align: middle;\n",
       "    }\n",
       "\n",
       "    .dataframe tbody tr th {\n",
       "        vertical-align: top;\n",
       "    }\n",
       "\n",
       "    .dataframe thead th {\n",
       "        text-align: right;\n",
       "    }\n",
       "</style>\n",
       "<table border=\"1\" class=\"dataframe\">\n",
       "  <thead>\n",
       "    <tr style=\"text-align: right;\">\n",
       "      <th></th>\n",
       "      <th>image_id</th>\n",
       "      <th>image_dir</th>\n",
       "      <th>category</th>\n",
       "      <th>genus</th>\n",
       "      <th>institutions</th>\n",
       "    </tr>\n",
       "  </thead>\n",
       "  <tbody>\n",
       "    <tr>\n",
       "      <th>0</th>\n",
       "      <td>00000__001</td>\n",
       "      <td>dataset/train_images/000/00/00000__001.jpg</td>\n",
       "      <td>0</td>\n",
       "      <td>Abies</td>\n",
       "      <td>0</td>\n",
       "    </tr>\n",
       "    <tr>\n",
       "      <th>1</th>\n",
       "      <td>00000__002</td>\n",
       "      <td>dataset/train_images/000/00/00000__002.jpg</td>\n",
       "      <td>0</td>\n",
       "      <td>Abies</td>\n",
       "      <td>0</td>\n",
       "    </tr>\n",
       "    <tr>\n",
       "      <th>2</th>\n",
       "      <td>00000__003</td>\n",
       "      <td>dataset/train_images/000/00/00000__003.jpg</td>\n",
       "      <td>0</td>\n",
       "      <td>Abies</td>\n",
       "      <td>0</td>\n",
       "    </tr>\n",
       "    <tr>\n",
       "      <th>3</th>\n",
       "      <td>00000__004</td>\n",
       "      <td>dataset/train_images/000/00/00000__004.jpg</td>\n",
       "      <td>0</td>\n",
       "      <td>Abies</td>\n",
       "      <td>0</td>\n",
       "    </tr>\n",
       "    <tr>\n",
       "      <th>4</th>\n",
       "      <td>00000__005</td>\n",
       "      <td>dataset/train_images/000/00/00000__005.jpg</td>\n",
       "      <td>0</td>\n",
       "      <td>Abies</td>\n",
       "      <td>0</td>\n",
       "    </tr>\n",
       "  </tbody>\n",
       "</table>\n",
       "</div>"
      ],
      "text/plain": [
       "     image_id                                   image_dir  category  genus  \\\n",
       "0  00000__001  dataset/train_images/000/00/00000__001.jpg         0  Abies   \n",
       "1  00000__002  dataset/train_images/000/00/00000__002.jpg         0  Abies   \n",
       "2  00000__003  dataset/train_images/000/00/00000__003.jpg         0  Abies   \n",
       "3  00000__004  dataset/train_images/000/00/00000__004.jpg         0  Abies   \n",
       "4  00000__005  dataset/train_images/000/00/00000__005.jpg         0  Abies   \n",
       "\n",
       "   institutions  \n",
       "0             0  \n",
       "1             0  \n",
       "2             0  \n",
       "3             0  \n",
       "4             0  "
      ]
     },
     "execution_count": 3,
     "metadata": {},
     "output_type": "execute_result"
    }
   ],
   "source": [
    "df.head()"
   ]
  },
  {
   "cell_type": "code",
   "execution_count": 4,
   "id": "c6b3c766-0473-4517-aa1e-66c4f3ff6ec0",
   "metadata": {},
   "outputs": [
    {
     "data": {
      "text/plain": [
       "(839772, 5)"
      ]
     },
     "execution_count": 4,
     "metadata": {},
     "output_type": "execute_result"
    }
   ],
   "source": [
    "df.shape"
   ]
  },
  {
   "cell_type": "code",
   "execution_count": 5,
   "id": "ae37de56-4b44-4173-8f6e-767494da4b44",
   "metadata": {},
   "outputs": [
    {
     "name": "stdout",
     "output_type": "stream",
     "text": [
      "15501\n",
      "2564\n",
      "60\n"
     ]
    }
   ],
   "source": [
    "print(len(df.category.unique()))\n",
    "print(len(df.genus.unique()))\n",
    "print(len(df.institutions.unique()))"
   ]
  },
  {
   "cell_type": "code",
   "execution_count": 6,
   "id": "a106765f-70ce-42b9-84c3-b41f1cdeeb2d",
   "metadata": {},
   "outputs": [
    {
     "data": {
      "text/html": [
       "<div>\n",
       "<style scoped>\n",
       "    .dataframe tbody tr th:only-of-type {\n",
       "        vertical-align: middle;\n",
       "    }\n",
       "\n",
       "    .dataframe tbody tr th {\n",
       "        vertical-align: top;\n",
       "    }\n",
       "\n",
       "    .dataframe thead th {\n",
       "        text-align: right;\n",
       "    }\n",
       "</style>\n",
       "<table border=\"1\" class=\"dataframe\">\n",
       "  <thead>\n",
       "    <tr style=\"text-align: right;\">\n",
       "      <th></th>\n",
       "      <th>image_id</th>\n",
       "      <th>image_dir</th>\n",
       "      <th>category</th>\n",
       "      <th>genus</th>\n",
       "      <th>institutions</th>\n",
       "    </tr>\n",
       "  </thead>\n",
       "  <tbody>\n",
       "    <tr>\n",
       "      <th>0</th>\n",
       "      <td>00000__001</td>\n",
       "      <td>dataset/train_images/000/00/00000__001.jpg</td>\n",
       "      <td>0</td>\n",
       "      <td>Abies</td>\n",
       "      <td>0</td>\n",
       "    </tr>\n",
       "    <tr>\n",
       "      <th>1</th>\n",
       "      <td>00000__002</td>\n",
       "      <td>dataset/train_images/000/00/00000__002.jpg</td>\n",
       "      <td>0</td>\n",
       "      <td>Abies</td>\n",
       "      <td>0</td>\n",
       "    </tr>\n",
       "    <tr>\n",
       "      <th>2</th>\n",
       "      <td>00000__003</td>\n",
       "      <td>dataset/train_images/000/00/00000__003.jpg</td>\n",
       "      <td>0</td>\n",
       "      <td>Abies</td>\n",
       "      <td>0</td>\n",
       "    </tr>\n",
       "    <tr>\n",
       "      <th>3</th>\n",
       "      <td>00000__004</td>\n",
       "      <td>dataset/train_images/000/00/00000__004.jpg</td>\n",
       "      <td>0</td>\n",
       "      <td>Abies</td>\n",
       "      <td>0</td>\n",
       "    </tr>\n",
       "    <tr>\n",
       "      <th>4</th>\n",
       "      <td>00000__005</td>\n",
       "      <td>dataset/train_images/000/00/00000__005.jpg</td>\n",
       "      <td>0</td>\n",
       "      <td>Abies</td>\n",
       "      <td>0</td>\n",
       "    </tr>\n",
       "  </tbody>\n",
       "</table>\n",
       "</div>"
      ],
      "text/plain": [
       "     image_id                                   image_dir  category  genus  \\\n",
       "0  00000__001  dataset/train_images/000/00/00000__001.jpg         0  Abies   \n",
       "1  00000__002  dataset/train_images/000/00/00000__002.jpg         0  Abies   \n",
       "2  00000__003  dataset/train_images/000/00/00000__003.jpg         0  Abies   \n",
       "3  00000__004  dataset/train_images/000/00/00000__004.jpg         0  Abies   \n",
       "4  00000__005  dataset/train_images/000/00/00000__005.jpg         0  Abies   \n",
       "\n",
       "   institutions  \n",
       "0             0  \n",
       "1             0  \n",
       "2             0  \n",
       "3             0  \n",
       "4             0  "
      ]
     },
     "execution_count": 6,
     "metadata": {},
     "output_type": "execute_result"
    }
   ],
   "source": [
    "df.reset_index(inplace=True, drop=True)\n",
    "df.head()"
   ]
  },
  {
   "cell_type": "code",
   "execution_count": 7,
   "id": "bb95ef97-4538-4b08-9cdd-f369d2dc35b1",
   "metadata": {},
   "outputs": [
    {
     "data": {
      "text/plain": [
       "15504"
      ]
     },
     "execution_count": 7,
     "metadata": {},
     "output_type": "execute_result"
    }
   ],
   "source": [
    "max(df.category.unique())"
   ]
  },
  {
   "cell_type": "code",
   "execution_count": 8,
   "id": "fd90b53b-978d-4ae6-9c11-b9592aeefdf2",
   "metadata": {},
   "outputs": [],
   "source": [
    "import custom_models\n",
    "model = custom_models.__dict__['resnet18'](pretrained=False)"
   ]
  },
  {
   "cell_type": "code",
   "execution_count": 9,
   "id": "d32f42f8-e5a5-4d78-9c1b-824ce8c07b16",
   "metadata": {},
   "outputs": [],
   "source": [
    "# model"
   ]
  },
  {
   "cell_type": "code",
   "execution_count": 10,
   "id": "ab3916b1-4324-470a-bb2d-66189d6a2a6c",
   "metadata": {},
   "outputs": [
    {
     "name": "stdout",
     "output_type": "stream",
     "text": [
      "=> creating model 'resnet18'\n"
     ]
    }
   ],
   "source": [
    "from pl_models_multi import HerbClsModel\n",
    "num_classes1 = len(df.category.unique())\n",
    "num_classes2 = len(df.genus.unique())\n",
    "num_classes3 = len(df.institutions.unique())\n",
    "model = HerbClsModel(pretrained=False)"
   ]
  },
  {
   "cell_type": "code",
   "execution_count": 11,
   "id": "0e1f44fa-bdd1-4917-9634-96fe81390a76",
   "metadata": {},
   "outputs": [],
   "source": [
    "# model"
   ]
  },
  {
   "cell_type": "code",
   "execution_count": 12,
   "id": "76959778-5bc7-4202-9344-cf4f90a773ab",
   "metadata": {},
   "outputs": [
    {
     "name": "stdout",
     "output_type": "stream",
     "text": [
      "(839772, 5)\n"
     ]
    },
    {
     "name": "stderr",
     "output_type": "stream",
     "text": [
      "/home/beomgon/anaconda3/envs/pl/lib/python3.8/site-packages/pytorch_lightning/core/datamodule.py:95: LightningDeprecationWarning: DataModule property `train_transforms` was deprecated in v1.5 and will be removed in v1.7.\n",
      "  rank_zero_deprecation(\n",
      "/home/beomgon/anaconda3/envs/pl/lib/python3.8/site-packages/pytorch_lightning/core/datamodule.py:133: LightningDeprecationWarning: DataModule property `test_transforms` was deprecated in v1.5 and will be removed in v1.7.\n",
      "  rank_zero_deprecation(\n"
     ]
    }
   ],
   "source": [
    "from utils.dataset_utils import LabelEncoder\n",
    "le = LabelEncoder(df)\n",
    "df = le.get_integer_labels()\n",
    "\n",
    "batch_size = 2\n",
    "dm = HerbDataModule(df, batch_size, transform=train_transforms)\n"
   ]
  },
  {
   "cell_type": "code",
   "execution_count": 13,
   "id": "23ea2e6c-6d1d-4d83-9672-2c284645680d",
   "metadata": {},
   "outputs": [
    {
     "name": "stderr",
     "output_type": "stream",
     "text": [
      "/home/beomgon/anaconda3/envs/pl/lib/python3.8/site-packages/pytorch_lightning/trainer/connectors/callback_connector.py:96: LightningDeprecationWarning: Setting `Trainer(progress_bar_refresh_rate=20)` is deprecated in v1.5 and will be removed in v1.7. Please pass `pytorch_lightning.callbacks.progress.TQDMProgressBar` with `refresh_rate` directly to the Trainer's `callbacks` argument instead. Or, to disable the progress bar pass `enable_progress_bar = False` to the Trainer.\n",
      "  rank_zero_deprecation(\n",
      "GPU available: True, used: True\n",
      "TPU available: False, using: 0 TPU cores\n",
      "IPU available: False, using: 0 IPUs\n",
      "HPU available: False, using: 0 HPUs\n",
      "/home/beomgon/anaconda3/envs/pl/lib/python3.8/site-packages/pytorch_lightning/core/datamodule.py:88: LightningDeprecationWarning: DataModule property `train_transforms` was deprecated in v1.5 and will be removed in v1.7.\n",
      "  rank_zero_deprecation(\n",
      "/home/beomgon/anaconda3/envs/pl/lib/python3.8/site-packages/pytorch_lightning/core/datamodule.py:126: LightningDeprecationWarning: DataModule property `test_transforms` was deprecated in v1.5 and will be removed in v1.7.\n",
      "  rank_zero_deprecation(\n"
     ]
    },
    {
     "name": "stdout",
     "output_type": "stream",
     "text": [
      "(629829, 5)\n",
      "(209943, 5)\n"
     ]
    },
    {
     "name": "stderr",
     "output_type": "stream",
     "text": [
      "LOCAL_RANK: 0 - CUDA_VISIBLE_DEVICES: [0,1]\n",
      "\n",
      "  | Name        | Type             | Params\n",
      "-------------------------------------------------\n",
      "0 | model       | ResNet           | 11.7 M\n",
      "1 | fc1         | Linear           | 8.0 M \n",
      "2 | fc2         | Linear           | 1.3 M \n",
      "3 | fc3         | Linear           | 30.8 K\n",
      "4 | criterion   | CrossEntropyLoss | 0     \n",
      "5 | train_acc1  | Accuracy         | 0     \n",
      "6 | eval_acc1   | Accuracy         | 0     \n",
      "7 | f1          | F1Score          | 0     \n",
      "8 | specificity | Specificity      | 0     \n",
      "-------------------------------------------------\n",
      "21.0 M    Trainable params\n",
      "0         Non-trainable params\n",
      "21.0 M    Total params\n",
      "83.951    Total estimated model params size (MB)\n"
     ]
    },
    {
     "name": "stdout",
     "output_type": "stream",
     "text": [
      "Epoch 0:   0%|          | 460/419887 [00:14<3:45:16, 31.03it/s, loss=17.2, v_num=14, train_acc=0.000]"
     ]
    },
    {
     "name": "stderr",
     "output_type": "stream",
     "text": [
      "/home/beomgon/anaconda3/envs/pl/lib/python3.8/site-packages/pytorch_lightning/trainer/trainer.py:724: UserWarning: Detected KeyboardInterrupt, attempting graceful shutdown...\n",
      "  rank_zero_warn(\"Detected KeyboardInterrupt, attempting graceful shutdown...\")\n"
     ]
    }
   ],
   "source": [
    "num_classes = len(df.category.unique())\n",
    "\n",
    "devices = torch.cuda.device_count()\n",
    "trainer = Trainer(\n",
    "    max_epochs=3,\n",
    "    progress_bar_refresh_rate=20,\n",
    "    # gpus=devices,\n",
    "    gpus=1,\n",
    "    # strategy = \"ddp\",\n",
    ")\n",
    "trainer.fit(model, dm)"
   ]
  },
  {
   "cell_type": "code",
   "execution_count": null,
   "id": "3d575580-e861-4faf-9c14-e1eb86b3b4d5",
   "metadata": {},
   "outputs": [],
   "source": []
  },
  {
   "cell_type": "code",
   "execution_count": null,
   "id": "95251bb5-5a22-4b16-8824-6d606781f0f9",
   "metadata": {},
   "outputs": [],
   "source": []
  },
  {
   "cell_type": "code",
   "execution_count": null,
   "id": "eaed043f-b542-4dbb-a0e1-7a6379281477",
   "metadata": {},
   "outputs": [],
   "source": []
  },
  {
   "cell_type": "code",
   "execution_count": null,
   "id": "c33e04c2-a003-465c-b124-172ec2bfa68c",
   "metadata": {},
   "outputs": [],
   "source": []
  },
  {
   "cell_type": "code",
   "execution_count": null,
   "id": "5c8cdc53-9f23-4eb5-ab0d-adc8870667e1",
   "metadata": {},
   "outputs": [],
   "source": []
  },
  {
   "cell_type": "code",
   "execution_count": null,
   "id": "c7e221b3-74b7-494c-bf4b-c7d2b6670b36",
   "metadata": {},
   "outputs": [],
   "source": []
  },
  {
   "cell_type": "code",
   "execution_count": null,
   "id": "fc111a7a-0ac1-461a-968a-45ad8fc10787",
   "metadata": {},
   "outputs": [],
   "source": []
  },
  {
   "cell_type": "code",
   "execution_count": null,
   "id": "6efb351d-b80b-4871-aefe-b3a49e344398",
   "metadata": {},
   "outputs": [],
   "source": []
  },
  {
   "cell_type": "code",
   "execution_count": null,
   "id": "dbc50425-3a64-48e5-9a05-8c93506e7184",
   "metadata": {},
   "outputs": [],
   "source": []
  },
  {
   "cell_type": "code",
   "execution_count": null,
   "id": "ff197e37-ec90-4663-8d3e-4e5d3037004b",
   "metadata": {},
   "outputs": [],
   "source": []
  },
  {
   "cell_type": "code",
   "execution_count": null,
   "id": "8fa203a0-694f-40f0-a19a-72fe0bdff83c",
   "metadata": {},
   "outputs": [],
   "source": []
  },
  {
   "cell_type": "code",
   "execution_count": null,
   "id": "d855e30d-4cc1-4a79-8c63-723154038e0d",
   "metadata": {},
   "outputs": [],
   "source": []
  },
  {
   "cell_type": "code",
   "execution_count": null,
   "id": "cb3763fd-09ae-48a9-a072-5150c2be8485",
   "metadata": {},
   "outputs": [],
   "source": []
  },
  {
   "cell_type": "code",
   "execution_count": null,
   "id": "ccfec5aa-b84c-4b4e-af9e-8738fc89a237",
   "metadata": {},
   "outputs": [],
   "source": []
  },
  {
   "cell_type": "code",
   "execution_count": null,
   "id": "9f9955d1-5795-428d-a5af-242fcc357eec",
   "metadata": {},
   "outputs": [],
   "source": []
  },
  {
   "cell_type": "code",
   "execution_count": null,
   "id": "4596b529-2864-4809-8e31-80477bc6d2de",
   "metadata": {},
   "outputs": [],
   "source": []
  },
  {
   "cell_type": "code",
   "execution_count": null,
   "id": "8cec2be2-125e-4680-888a-a6cc5f6bf13e",
   "metadata": {},
   "outputs": [],
   "source": []
  },
  {
   "cell_type": "code",
   "execution_count": null,
   "id": "a232617a-bdd4-4de2-8a15-063a1da395c7",
   "metadata": {},
   "outputs": [],
   "source": []
  },
  {
   "cell_type": "code",
   "execution_count": null,
   "id": "97d6f26b-67ce-45ce-a0b3-d099935b2f28",
   "metadata": {},
   "outputs": [],
   "source": []
  },
  {
   "cell_type": "code",
   "execution_count": null,
   "id": "539d9185-5c37-4352-956a-3a1d6798e4f1",
   "metadata": {},
   "outputs": [],
   "source": []
  },
  {
   "cell_type": "code",
   "execution_count": null,
   "id": "1f52b52d-00d7-4898-b0ec-5d695ebdf203",
   "metadata": {},
   "outputs": [],
   "source": []
  },
  {
   "cell_type": "code",
   "execution_count": null,
   "id": "e7dd3439-c3cb-436c-8854-d5c2c441e1ff",
   "metadata": {},
   "outputs": [],
   "source": []
  },
  {
   "cell_type": "code",
   "execution_count": null,
   "id": "6bf5da22-8136-4908-91bd-9944b7c88878",
   "metadata": {},
   "outputs": [],
   "source": []
  },
  {
   "cell_type": "code",
   "execution_count": null,
   "id": "f440778d-1183-4066-af0a-62e6e2feb48b",
   "metadata": {},
   "outputs": [],
   "source": []
  },
  {
   "cell_type": "code",
   "execution_count": null,
   "id": "2c1bcde5-5f66-4948-b9ec-98c28cf9c2bb",
   "metadata": {},
   "outputs": [],
   "source": []
  }
 ],
 "metadata": {
  "kernelspec": {
   "display_name": "pl",
   "language": "python",
   "name": "pl"
  },
  "language_info": {
   "codemirror_mode": {
    "name": "ipython",
    "version": 3
   },
   "file_extension": ".py",
   "mimetype": "text/x-python",
   "name": "python",
   "nbconvert_exporter": "python",
   "pygments_lexer": "ipython3",
   "version": "3.8.13"
  }
 },
 "nbformat": 4,
 "nbformat_minor": 5
}
